{
  "nbformat": 4,
  "nbformat_minor": 0,
  "metadata": {
    "colab": {
      "provenance": [],
      "authorship_tag": "ABX9TyMD6gNaWK76b0VpHc0x1SSp",
      "include_colab_link": true
    },
    "kernelspec": {
      "name": "python3",
      "display_name": "Python 3"
    },
    "language_info": {
      "name": "python"
    }
  },
  "cells": [
    {
      "cell_type": "markdown",
      "metadata": {
        "id": "view-in-github",
        "colab_type": "text"
      },
      "source": [
        "<a href=\"https://colab.research.google.com/github/Jannicee/Scientific-computing/blob/main/numerical_integration_Riemann.ipynb\" target=\"_parent\"><img src=\"https://colab.research.google.com/assets/colab-badge.svg\" alt=\"Open In Colab\"/></a>"
      ]
    },
    {
      "cell_type": "code",
      "execution_count": 2,
      "metadata": {
        "id": "6Oo3RXjtNHTc"
      },
      "outputs": [],
      "source": [
        "import numpy as np"
      ]
    },
    {
      "cell_type": "code",
      "source": [
        "def f(x):\n",
        "  return 4*(x**4) + 2*(x**3) - 6*x"
      ],
      "metadata": {
        "id": "qoqoUnD0Nz0w"
      },
      "execution_count": 7,
      "outputs": []
    },
    {
      "cell_type": "code",
      "source": [
        "a = -3\n",
        "b = 3\n",
        "n = 30\n",
        "lebar_kotak = (b-a)/ (n-1)\n",
        "x = np.linspace(a, b, n)\n",
        "y = f(x)"
      ],
      "metadata": {
        "id": "1idO7cR7YTB_"
      },
      "execution_count": 8,
      "outputs": []
    },
    {
      "cell_type": "code",
      "source": [
        "# Left Riemann\n",
        "left_riemann = lebar_kotak * sum(y[:n-1])\n",
        "print(f\"Left Riemann : {left_riemann}\")\n",
        "print()\n",
        "\n",
        "# Right Riemann\n",
        "right_riemann = lebar_kotak * sum(y[1:])\n",
        "print(f\"Right Riemann : {right_riemann}\")\n",
        "print()\n",
        "\n",
        "# Midpoint Rule\n",
        "x_mid = (x[:n-1] + x[1:]) / 2\n",
        "y_mid = f(x_mid)\n",
        "\n",
        "mid_point = lebar_kotak * sum(y_mid)\n",
        "print(f\"Midpoint Rule : {mid_point}\")\n",
        "print()\n",
        "\n",
        "# Trapezoid Rule\n",
        "sisi_sejajar = y[0] + 2 * sum(y[1:n-1]) + y[n-1]\n",
        "trapezoid = lebar_kotak * sisi_sejajar / 2\n",
        "print(f\"Trapezoid Rule : {trapezoid}\")\n",
        "print()"
      ],
      "metadata": {
        "colab": {
          "base_uri": "https://localhost:8080/"
        },
        "collapsed": true,
        "id": "zQcHjKH3FTp7",
        "outputId": "f6b909bb-7d77-4d4f-f892-40b38e1e021d"
      },
      "execution_count": 9,
      "outputs": [
        {
          "output_type": "stream",
          "name": "stdout",
          "text": [
            "Left Riemann : 384.4323034267851\n",
            "\n",
            "Right Riemann : 399.328855150923\n",
            "\n",
            "Midpoint Rule : 387.26026006636687\n",
            "\n",
            "Trapezoid Rule : 391.88057928885405\n",
            "\n"
          ]
        }
      ]
    },
    {
      "cell_type": "code",
      "source": [
        "import numpy as np\n",
        "# import math\n",
        "\n",
        "def f(x):\n",
        "  return np.sin(x)**2 + np.sin(x) + 2\n",
        "\n",
        "a = -np.pi\n",
        "b = 2 * np.pi\n",
        "n = 27\n",
        "lebar_kotak = (b-a) / (n-1)\n",
        "x = np.linspace(a, b, n)\n",
        "y = f(x)\n",
        "\n",
        "# trapezoid rule\n",
        "sisi_sejajar = y[0] + 2 * sum(y[1:n-1]) + y[n-1]\n",
        "trapezoid = lebar_kotak * sisi_sejajar / 2\n",
        "print(trapezoid)"
      ],
      "metadata": {
        "colab": {
          "base_uri": "https://localhost:8080/"
        },
        "id": "HjFyI_WpS1g4",
        "outputId": "c2003442-445d-4348-9cf8-21e33a7b6a6a"
      },
      "execution_count": 17,
      "outputs": [
        {
          "output_type": "stream",
          "name": "stdout",
          "text": [
            "21.583893023276122\n"
          ]
        }
      ]
    },
    {
      "cell_type": "code",
      "source": [],
      "metadata": {
        "id": "tqWeh4wLWFcn"
      },
      "execution_count": null,
      "outputs": []
    }
  ]
}