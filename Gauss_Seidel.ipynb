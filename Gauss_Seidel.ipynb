{
  "nbformat": 4,
  "nbformat_minor": 0,
  "metadata": {
    "colab": {
      "provenance": [],
      "authorship_tag": "ABX9TyNpCtZhXS8CO7NdplMuVift",
      "include_colab_link": true
    },
    "kernelspec": {
      "name": "python3",
      "display_name": "Python 3"
    },
    "language_info": {
      "name": "python"
    }
  },
  "cells": [
    {
      "cell_type": "markdown",
      "metadata": {
        "id": "view-in-github",
        "colab_type": "text"
      },
      "source": [
        "<a href=\"https://colab.research.google.com/github/Jannicee/Scientific-computing/blob/main/Gauss_Seidel.ipynb\" target=\"_parent\"><img src=\"https://colab.research.google.com/assets/colab-badge.svg\" alt=\"Open In Colab\"/></a>"
      ]
    },
    {
      "cell_type": "code",
      "source": [
        "import numpy as np"
      ],
      "metadata": {
        "id": "WSjFt1HVg0s6"
      },
      "execution_count": 2,
      "outputs": []
    },
    {
      "cell_type": "code",
      "execution_count": 3,
      "metadata": {
        "id": "SRdwtXpMaSEJ"
      },
      "outputs": [],
      "source": [
        "# Gauss Seidel\n",
        "def isDiagonallyDominant(x):\n",
        "    x = np.array(x)\n",
        "    diag = np.diag(np.abs(x))\n",
        "    off_diag = np.sum(np.abs(x), axis = 1) - diag\n",
        "\n",
        "    if np.all(diag > off_diag):\n",
        "        return True\n",
        "    else :\n",
        "        return False\n",
        "\n",
        "def gauss_seidel(x, y, tol = 0.01, iter = 15):\n",
        "      if not isDiagonallyDominant(x):\n",
        "        print(\"not diagonally dominant\")\n",
        "        return\n",
        "\n",
        "      x = np.array(x)\n",
        "      y = np.array(y)\n",
        "      diag = np.diag(np.array(x))\n",
        "      x = -x\n",
        "      np.fill_diagonal(x, 0)\n",
        "      old = np.zeros(x[0].shape)\n",
        "\n",
        "      for i in range(iter):\n",
        "        new = np.array(old)\n",
        "        for idx, row in enumerate(x):\n",
        "          new[idx] = (y[idx] + np.dot(row, new)) / diag[idx]\n",
        "\n",
        "        print(f\"iteration of {i} : {new}\")\n",
        "        dx = np.sqrt(np.dot(new-old, new-old))\n",
        "        if dx < tol :\n",
        "          print(\"convergen\")\n",
        "          return\n",
        "        old = new\n",
        "      print(\"not convergen\")\n",
        "      return"
      ]
    },
    {
      "cell_type": "code",
      "source": [
        "X1 = [\n",
        " [4, 2, -1],\n",
        " [1, -5, 2],\n",
        " [2, -1, -4]\n",
        " ]\n",
        "Y1 = [41, -10, 1]\n",
        "\n",
        "X2 = [\n",
        " [3, 4, 5],\n",
        " [-3, 7, -4],\n",
        " [1, -4, -2]\n",
        " ]\n",
        "Y2 = [34, -32, 62]\n",
        "\n",
        "X3 = [\n",
        " [9, -2, 3, 2],\n",
        " [2, 8, -2, 3],\n",
        " [-3, 2, 11, -4],\n",
        " [-2, 3, 2, 10]\n",
        " ]\n",
        "Y3 = [55, -14, 12, -21]\n",
        "\n",
        "# for i , (x,y) in enumerate(zip(x,y)):\n",
        "#   print(f\"A : {x}, y = {y}\")\n",
        "#   gauss_seidel(x,y)\n",
        "#   print()\n",
        "\n",
        "gauss_seidel(X1, Y1)\n",
        "print()\n",
        "gauss_seidel(X2, Y2)\n",
        "print()\n",
        "gauss_seidel(X3, Y3)"
      ],
      "metadata": {
        "colab": {
          "base_uri": "https://localhost:8080/"
        },
        "id": "rKwLSknshPuy",
        "outputId": "02bff93a-eee1-4e15-a062-d96fd7389666"
      },
      "execution_count": 4,
      "outputs": [
        {
          "output_type": "stream",
          "name": "stdout",
          "text": [
            "iteration of 0 : [10.25    4.05    3.8625]\n",
            "iteration of 1 : [9.190625   5.383125   2.99953125]\n",
            "iteration of 2 : [8.30832031 4.86147656 2.68879102]\n",
            "iteration of 3 : [8.49145947 4.7738083  2.80227766]\n",
            "iteration of 4 : [8.56366526 4.83364412 2.8234216 ]\n",
            "iteration of 5 : [8.53903334 4.83717531 2.81022284]\n",
            "iteration of 6 : [8.53396806 4.83088275 2.80926334]\n",
            "convergen\n",
            "\n",
            "not diagonally dominant\n",
            "\n",
            "iteration of 0 : [ 6.11111111 -3.27777778  3.35353535 -0.56515152]\n",
            "iteration of 1 : [ 4.39046016 -1.79729938  2.40957938 -1.16463403]\n",
            "iteration of 2 : [ 5.16732568 -2.00269881  2.44080351 -0.95388592]\n",
            "iteration of 3 : [ 5.06444041 -2.04820201  2.49765287 -0.97218189]\n",
            "iteration of 4 : [ 5.03944457 -2.02087972  2.47921505 -0.98169018]\n",
            "iteration of 5 : [ 5.05377509 -2.02550619  2.48050699 -0.97769452]\n",
            "iteration of 6 : [ 5.05142841 -2.02609491  2.481427   -0.97817124]\n",
            "convergen\n"
          ]
        }
      ]
    }
  ]
}