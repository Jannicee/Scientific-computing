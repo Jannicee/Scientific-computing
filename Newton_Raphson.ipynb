{
  "nbformat": 4,
  "nbformat_minor": 0,
  "metadata": {
    "colab": {
      "provenance": [],
      "authorship_tag": "ABX9TyM6EACAnTyLgS8niOOYwsa3",
      "include_colab_link": true
    },
    "kernelspec": {
      "name": "python3",
      "display_name": "Python 3"
    },
    "language_info": {
      "name": "python"
    }
  },
  "cells": [
    {
      "cell_type": "markdown",
      "metadata": {
        "id": "view-in-github",
        "colab_type": "text"
      },
      "source": [
        "<a href=\"https://colab.research.google.com/github/Jannicee/Scientific-computing/blob/main/Newton_Raphson.ipynb\" target=\"_parent\"><img src=\"https://colab.research.google.com/assets/colab-badge.svg\" alt=\"Open In Colab\"/></a>"
      ]
    },
    {
      "cell_type": "code",
      "execution_count": 2,
      "metadata": {
        "id": "v0auLZklH3b4"
      },
      "outputs": [],
      "source": [
        "import numpy as np"
      ]
    },
    {
      "cell_type": "code",
      "source": [
        "def f(x):\n",
        "  return x**6 + 2 * (x**2) - 3\n",
        "\n",
        "# derivative of f(x) is g(x)\n",
        "def g(x):\n",
        "  return 6 * (x**5) + 4 * x"
      ],
      "metadata": {
        "id": "7iJ-EMMFI9gO"
      },
      "execution_count": 3,
      "outputs": []
    },
    {
      "cell_type": "code",
      "source": [
        "def newton_raphson(x0, tolerance = 0.01, iter = 15):\n",
        "  for i in range(iter):\n",
        "    x1 = x0 - (f(x0) / g(x0))\n",
        "\n",
        "    if(np.abs(f(x1)) < tolerance):\n",
        "      print('the root of equation is : ', x1)\n",
        "      return\n",
        "\n",
        "    print(f'iteration of {i+1}. New root {x1}')\n",
        "    x0 = x1"
      ],
      "metadata": {
        "id": "2poG25s6KLBY"
      },
      "execution_count": 11,
      "outputs": []
    },
    {
      "cell_type": "code",
      "source": [
        "newton_raphson(4)"
      ],
      "metadata": {
        "colab": {
          "base_uri": "https://localhost:8080/"
        },
        "id": "hmft9m23MU4J",
        "outputId": "dfbc0213-ae43-4fb4-870a-24caff309e1a"
      },
      "execution_count": 12,
      "outputs": [
        {
          "output_type": "stream",
          "name": "stdout",
          "text": [
            "iteration of 1. New root 3.330357142857143\n",
            "iteration of 2. New root 2.7705278067251076\n",
            "iteration of 3. New root 2.3014692834655897\n",
            "iteration of 4. New root 1.9076486911265778\n",
            "iteration of 5. New root 1.5780738506315775\n",
            "iteration of 6. New root 1.3101344278134677\n",
            "iteration of 7. New root 1.1168277838634215\n",
            "iteration of 8. New root 1.0204619280744585\n",
            "the root of equation is :  1.0006965918207418\n"
          ]
        }
      ]
    }
  ]
}